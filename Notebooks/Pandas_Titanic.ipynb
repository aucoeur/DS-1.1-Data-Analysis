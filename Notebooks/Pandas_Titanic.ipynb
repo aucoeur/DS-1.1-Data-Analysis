{
 "cells": [
  {
   "cell_type": "markdown",
   "metadata": {},
   "source": [
    "<img src=\"Images/slide1_pandas.png\" width=\"600\" height=\"600\">"
   ]
  },
  {
   "cell_type": "markdown",
   "metadata": {},
   "source": [
    "<img src=\"Images/slide2_pandas.png\" width=\"600\" height=\"600\">"
   ]
  },
  {
   "cell_type": "markdown",
   "metadata": {},
   "source": [
    "## Learning Objectives\n",
    "\n",
    "- Learn all of the methods in pandas for data-frame manipulation\n",
    "- Apply visualization to data-frame"
   ]
  },
  {
   "cell_type": "markdown",
   "metadata": {},
   "source": [
    "### Lets make a Pandas dataframe from a video game sales csv file \n",
    "\n",
    "You can download the CSV from [the repo](https://github.com/Make-School-Courses/DS-1.1-Data-Analysis/blob/master/Notebooks/Datasets/vgsales.csv) under Notebooks --> Datasets --> vgsales.csv"
   ]
  },
  {
   "cell_type": "code",
   "execution_count": 3,
   "metadata": {},
   "outputs": [],
   "source": [
    "import numpy as np \n",
    "import pandas as pd \n",
    "\n",
    "df = pd.read_csv('Datasets/vgsales.csv')"
   ]
  },
  {
   "cell_type": "markdown",
   "metadata": {},
   "source": [
    "### Lets look at the first 5 rows of the dataframe"
   ]
  },
  {
   "cell_type": "code",
   "execution_count": 2,
   "metadata": {},
   "outputs": [
    {
     "data": {
      "text/html": [
       "<div>\n",
       "<style scoped>\n",
       "    .dataframe tbody tr th:only-of-type {\n",
       "        vertical-align: middle;\n",
       "    }\n",
       "\n",
       "    .dataframe tbody tr th {\n",
       "        vertical-align: top;\n",
       "    }\n",
       "\n",
       "    .dataframe thead th {\n",
       "        text-align: right;\n",
       "    }\n",
       "</style>\n",
       "<table border=\"1\" class=\"dataframe\">\n",
       "  <thead>\n",
       "    <tr style=\"text-align: right;\">\n",
       "      <th></th>\n",
       "      <th>Rank</th>\n",
       "      <th>Name</th>\n",
       "      <th>Platform</th>\n",
       "      <th>Year</th>\n",
       "      <th>Genre</th>\n",
       "      <th>Publisher</th>\n",
       "      <th>NA_Sales</th>\n",
       "      <th>EU_Sales</th>\n",
       "      <th>JP_Sales</th>\n",
       "      <th>Other_Sales</th>\n",
       "      <th>Global_Sales</th>\n",
       "    </tr>\n",
       "  </thead>\n",
       "  <tbody>\n",
       "    <tr>\n",
       "      <th>0</th>\n",
       "      <td>1</td>\n",
       "      <td>Wii Sports</td>\n",
       "      <td>Wii</td>\n",
       "      <td>2006.0</td>\n",
       "      <td>Sports</td>\n",
       "      <td>Nintendo</td>\n",
       "      <td>41.49</td>\n",
       "      <td>29.02</td>\n",
       "      <td>3.77</td>\n",
       "      <td>8.46</td>\n",
       "      <td>82.74</td>\n",
       "    </tr>\n",
       "    <tr>\n",
       "      <th>1</th>\n",
       "      <td>2</td>\n",
       "      <td>Super Mario Bros.</td>\n",
       "      <td>NES</td>\n",
       "      <td>1985.0</td>\n",
       "      <td>Platform</td>\n",
       "      <td>Nintendo</td>\n",
       "      <td>29.08</td>\n",
       "      <td>3.58</td>\n",
       "      <td>6.81</td>\n",
       "      <td>0.77</td>\n",
       "      <td>40.24</td>\n",
       "    </tr>\n",
       "    <tr>\n",
       "      <th>2</th>\n",
       "      <td>3</td>\n",
       "      <td>Mario Kart Wii</td>\n",
       "      <td>Wii</td>\n",
       "      <td>2008.0</td>\n",
       "      <td>Racing</td>\n",
       "      <td>Nintendo</td>\n",
       "      <td>15.85</td>\n",
       "      <td>12.88</td>\n",
       "      <td>3.79</td>\n",
       "      <td>3.31</td>\n",
       "      <td>35.82</td>\n",
       "    </tr>\n",
       "    <tr>\n",
       "      <th>3</th>\n",
       "      <td>4</td>\n",
       "      <td>Wii Sports Resort</td>\n",
       "      <td>Wii</td>\n",
       "      <td>2009.0</td>\n",
       "      <td>Sports</td>\n",
       "      <td>Nintendo</td>\n",
       "      <td>15.75</td>\n",
       "      <td>11.01</td>\n",
       "      <td>3.28</td>\n",
       "      <td>2.96</td>\n",
       "      <td>33.00</td>\n",
       "    </tr>\n",
       "    <tr>\n",
       "      <th>4</th>\n",
       "      <td>5</td>\n",
       "      <td>Pokemon Red/Pokemon Blue</td>\n",
       "      <td>GB</td>\n",
       "      <td>1996.0</td>\n",
       "      <td>Role-Playing</td>\n",
       "      <td>Nintendo</td>\n",
       "      <td>11.27</td>\n",
       "      <td>8.89</td>\n",
       "      <td>10.22</td>\n",
       "      <td>1.00</td>\n",
       "      <td>31.37</td>\n",
       "    </tr>\n",
       "  </tbody>\n",
       "</table>\n",
       "</div>"
      ],
      "text/plain": [
       "   Rank                      Name Platform    Year         Genre Publisher  \\\n",
       "0     1                Wii Sports      Wii  2006.0        Sports  Nintendo   \n",
       "1     2         Super Mario Bros.      NES  1985.0      Platform  Nintendo   \n",
       "2     3            Mario Kart Wii      Wii  2008.0        Racing  Nintendo   \n",
       "3     4         Wii Sports Resort      Wii  2009.0        Sports  Nintendo   \n",
       "4     5  Pokemon Red/Pokemon Blue       GB  1996.0  Role-Playing  Nintendo   \n",
       "\n",
       "   NA_Sales  EU_Sales  JP_Sales  Other_Sales  Global_Sales  \n",
       "0     41.49     29.02      3.77         8.46         82.74  \n",
       "1     29.08      3.58      6.81         0.77         40.24  \n",
       "2     15.85     12.88      3.79         3.31         35.82  \n",
       "3     15.75     11.01      3.28         2.96         33.00  \n",
       "4     11.27      8.89     10.22         1.00         31.37  "
      ]
     },
     "execution_count": 2,
     "metadata": {},
     "output_type": "execute_result"
    }
   ],
   "source": [
    "df.head()"
   ]
  },
  {
   "cell_type": "markdown",
   "metadata": {},
   "source": [
    "## .shape\n",
    "\n",
    "shape is a property of a dataframe that will give us a tuple containing the number of rows and the number of columns\n"
   ]
  },
  {
   "cell_type": "code",
   "execution_count": 7,
   "metadata": {},
   "outputs": [
    {
     "data": {
      "text/plain": [
       "(16598, 11)"
      ]
     },
     "execution_count": 7,
     "metadata": {},
     "output_type": "execute_result"
    }
   ],
   "source": [
    "df.shape"
   ]
  },
  {
   "cell_type": "markdown",
   "metadata": {},
   "source": [
    "### Video Game Sales Dataset Description"
   ]
  },
  {
   "cell_type": "markdown",
   "metadata": {},
   "source": [
    "Rank - Ranking of overall sales\n",
    "\n",
    "Name - The games name\n",
    "\n",
    "Platform - Platform of the games release (i.e. PC,PS4, etc.)\n",
    "\n",
    "Year - Year of the game's release\n",
    "\n",
    "Genre - Genre of the game\n",
    "\n",
    "Publisher - Publisher of the game\n",
    "\n",
    "NA_Sales - Sales in North America (in millions)\n",
    "\n",
    "EU_Sales - Sales in Europe (in millions)\n",
    "\n",
    "JP_Sales - Sales in Japan (in millions)\n",
    "\n",
    "Other_Sales - Sales in the rest of the world (in millions)\n",
    "\n",
    "Global_Sales - Total worldwide sales.\n",
    "\n",
    "The script to scrape the data is available at https://github.com/GregorUT/vgchartzScrape.\n",
    "It is based on BeautifulSoup using Python.\n",
    "There are 16,598 records. 2 records were dropped due to incomplete information."
   ]
  },
  {
   "cell_type": "markdown",
   "metadata": {},
   "source": [
    "### Plot a histogram of the game platform"
   ]
  },
  {
   "cell_type": "markdown",
   "metadata": {},
   "source": [
    "## Matplotlib\n",
    "\n",
    "Matplotlib is a comprehensive library for creating static, animated, and interactive visualizations in Python."
   ]
  },
  {
   "cell_type": "markdown",
   "metadata": {},
   "source": [
    "## Histograms\n",
    "\n",
    "A histogram is a graphical display of data using bars of different heights. In a histogram, each bar groups numbers into ranges or if your data is categorical it will store counts of each category. Taller bars show that more data falls in that range. A histogram displays the shape and spread of continuous sample data."
   ]
  },
  {
   "cell_type": "code",
   "execution_count": 19,
   "metadata": {},
   "outputs": [
    {
     "data": {
      "image/png": "[encoded data removed]",
      "text/plain": [
       "<Figure size 1440x360 with 1 Axes>"
      ]
     },
     "metadata": {
      "needs_background": "light"
     },
     "output_type": "display_data"
    }
   ],
   "source": [
    "import matplotlib.pyplot as plt\n",
    "plt.rcParams['figure.figsize'] = [20, 5]\n",
    "\n",
    "df['Platform'].hist(bins=16)\n",
    "plt.show()"
   ]
  },
  {
   "cell_type": "markdown",
   "metadata": {},
   "source": [
    "### How many of the Platform values are empty (or null)?"
   ]
  },
  {
   "cell_type": "code",
   "execution_count": 12,
   "metadata": {},
   "outputs": [
    {
     "data": {
      "text/plain": [
       "0"
      ]
     },
     "execution_count": 12,
     "metadata": {},
     "output_type": "execute_result"
    }
   ],
   "source": [
    "# how many of Age values are null\n",
    "df['Platform'].isna().sum()"
   ]
  },
  {
   "cell_type": "markdown",
   "metadata": {},
   "source": [
    "### Create a new column as NA_Sales_Percent which will be the percentage of the global sales for NA sales"
   ]
  },
  {
   "cell_type": "code",
   "execution_count": 20,
   "metadata": {},
   "outputs": [],
   "source": [
    "# create a new column as NA_Sales_Percent\n",
    "# we can directly apply mathematical operations to column info\n",
    "df['NA_Sales_Percent '] = df['NA_Sales'] / df['Global_Sales']"
   ]
  },
  {
   "cell_type": "code",
   "execution_count": 21,
   "metadata": {},
   "outputs": [
    {
     "data": {
      "text/html": [
       "<div>\n",
       "<style scoped>\n",
       "    .dataframe tbody tr th:only-of-type {\n",
       "        vertical-align: middle;\n",
       "    }\n",
       "\n",
       "    .dataframe tbody tr th {\n",
       "        vertical-align: top;\n",
       "    }\n",
       "\n",
       "    .dataframe thead th {\n",
       "        text-align: right;\n",
       "    }\n",
       "</style>\n",
       "<table border=\"1\" class=\"dataframe\">\n",
       "  <thead>\n",
       "    <tr style=\"text-align: right;\">\n",
       "      <th></th>\n",
       "      <th>Rank</th>\n",
       "      <th>Name</th>\n",
       "      <th>Platform</th>\n",
       "      <th>Year</th>\n",
       "      <th>Genre</th>\n",
       "      <th>Publisher</th>\n",
       "      <th>NA_Sales</th>\n",
       "      <th>EU_Sales</th>\n",
       "      <th>JP_Sales</th>\n",
       "      <th>Other_Sales</th>\n",
       "      <th>Global_Sales</th>\n",
       "      <th>NA_Sales_Percent</th>\n",
       "    </tr>\n",
       "  </thead>\n",
       "  <tbody>\n",
       "    <tr>\n",
       "      <th>0</th>\n",
       "      <td>1</td>\n",
       "      <td>Wii Sports</td>\n",
       "      <td>Wii</td>\n",
       "      <td>2006.0</td>\n",
       "      <td>Sports</td>\n",
       "      <td>Nintendo</td>\n",
       "      <td>41.49</td>\n",
       "      <td>29.02</td>\n",
       "      <td>3.77</td>\n",
       "      <td>8.46</td>\n",
       "      <td>82.74</td>\n",
       "      <td>0.501450</td>\n",
       "    </tr>\n",
       "    <tr>\n",
       "      <th>1</th>\n",
       "      <td>2</td>\n",
       "      <td>Super Mario Bros.</td>\n",
       "      <td>NES</td>\n",
       "      <td>1985.0</td>\n",
       "      <td>Platform</td>\n",
       "      <td>Nintendo</td>\n",
       "      <td>29.08</td>\n",
       "      <td>3.58</td>\n",
       "      <td>6.81</td>\n",
       "      <td>0.77</td>\n",
       "      <td>40.24</td>\n",
       "      <td>0.722664</td>\n",
       "    </tr>\n",
       "    <tr>\n",
       "      <th>2</th>\n",
       "      <td>3</td>\n",
       "      <td>Mario Kart Wii</td>\n",
       "      <td>Wii</td>\n",
       "      <td>2008.0</td>\n",
       "      <td>Racing</td>\n",
       "      <td>Nintendo</td>\n",
       "      <td>15.85</td>\n",
       "      <td>12.88</td>\n",
       "      <td>3.79</td>\n",
       "      <td>3.31</td>\n",
       "      <td>35.82</td>\n",
       "      <td>0.442490</td>\n",
       "    </tr>\n",
       "    <tr>\n",
       "      <th>3</th>\n",
       "      <td>4</td>\n",
       "      <td>Wii Sports Resort</td>\n",
       "      <td>Wii</td>\n",
       "      <td>2009.0</td>\n",
       "      <td>Sports</td>\n",
       "      <td>Nintendo</td>\n",
       "      <td>15.75</td>\n",
       "      <td>11.01</td>\n",
       "      <td>3.28</td>\n",
       "      <td>2.96</td>\n",
       "      <td>33.00</td>\n",
       "      <td>0.477273</td>\n",
       "    </tr>\n",
       "    <tr>\n",
       "      <th>4</th>\n",
       "      <td>5</td>\n",
       "      <td>Pokemon Red/Pokemon Blue</td>\n",
       "      <td>GB</td>\n",
       "      <td>1996.0</td>\n",
       "      <td>Role-Playing</td>\n",
       "      <td>Nintendo</td>\n",
       "      <td>11.27</td>\n",
       "      <td>8.89</td>\n",
       "      <td>10.22</td>\n",
       "      <td>1.00</td>\n",
       "      <td>31.37</td>\n",
       "      <td>0.359260</td>\n",
       "    </tr>\n",
       "  </tbody>\n",
       "</table>\n",
       "</div>"
      ],
      "text/plain": [
       "   Rank                      Name Platform    Year         Genre Publisher  \\\n",
       "0     1                Wii Sports      Wii  2006.0        Sports  Nintendo   \n",
       "1     2         Super Mario Bros.      NES  1985.0      Platform  Nintendo   \n",
       "2     3            Mario Kart Wii      Wii  2008.0        Racing  Nintendo   \n",
       "3     4         Wii Sports Resort      Wii  2009.0        Sports  Nintendo   \n",
       "4     5  Pokemon Red/Pokemon Blue       GB  1996.0  Role-Playing  Nintendo   \n",
       "\n",
       "   NA_Sales  EU_Sales  JP_Sales  Other_Sales  Global_Sales  NA_Sales_Percent   \n",
       "0     41.49     29.02      3.77         8.46         82.74           0.501450  \n",
       "1     29.08      3.58      6.81         0.77         40.24           0.722664  \n",
       "2     15.85     12.88      3.79         3.31         35.82           0.442490  \n",
       "3     15.75     11.01      3.28         2.96         33.00           0.477273  \n",
       "4     11.27      8.89     10.22         1.00         31.37           0.359260  "
      ]
     },
     "execution_count": 21,
     "metadata": {},
     "output_type": "execute_result"
    }
   ],
   "source": [
    "df.head()"
   ]
  },
  {
   "cell_type": "markdown",
   "metadata": {},
   "source": [
    "### We have one more column (check it)"
   ]
  },
  {
   "cell_type": "code",
   "execution_count": 18,
   "metadata": {},
   "outputs": [
    {
     "data": {
      "text/plain": [
       "(16598, 12)"
      ]
     },
     "execution_count": 18,
     "metadata": {},
     "output_type": "execute_result"
    }
   ],
   "source": [
    "df.shape"
   ]
  },
  {
   "cell_type": "markdown",
   "metadata": {},
   "source": [
    "## Box and Whisker Plots\n",
    "\n",
    "These types of plots will show us a nice summary of the data. Here's a [good intro](https://plotly.com/chart-studio-help/what-is-a-box-plot/) on how to read a box plot"
   ]
  },
  {
   "cell_type": "markdown",
   "metadata": {},
   "source": [
    "### Show the majority of Age range"
   ]
  },
  {
   "cell_type": "code",
   "execution_count": 75,
   "metadata": {},
   "outputs": [
    {
     "data": {
      "text/plain": [
       "<matplotlib.axes._subplots.AxesSubplot at 0x1390b10b8>"
      ]
     },
     "execution_count": 75,
     "metadata": {},
     "output_type": "execute_result"
    },
    {
     "data": {
      "image/png": "[encoded data removed]",
      "text/plain": [
       "<Figure size 1440x360 with 1 Axes>"
      ]
     },
     "metadata": {
      "needs_background": "light"
     },
     "output_type": "display_data"
    }
   ],
   "source": [
    "#df['Year'].hist(bins=16)\n",
    "df['Year'].plot.box()"
   ]
  },
  {
   "cell_type": "markdown",
   "metadata": {},
   "source": [
    "### List all of the Years that are not null"
   ]
  },
  {
   "cell_type": "code",
   "execution_count": 26,
   "metadata": {},
   "outputs": [
    {
     "data": {
      "text/plain": [
       "array([2006., 1985., 2008., ..., 2008., 2010., 2003.])"
      ]
     },
     "execution_count": 26,
     "metadata": {},
     "output_type": "execute_result"
    }
   ],
   "source": [
    "df['Year'].dropna().values"
   ]
  },
  {
   "cell_type": "markdown",
   "metadata": {},
   "source": [
    "### Slice the dataframe for the games that were realeased in 1985"
   ]
  },
  {
   "cell_type": "code",
   "execution_count": 29,
   "metadata": {},
   "outputs": [
    {
     "data": {
      "text/html": [
       "<div>\n",
       "<style scoped>\n",
       "    .dataframe tbody tr th:only-of-type {\n",
       "        vertical-align: middle;\n",
       "    }\n",
       "\n",
       "    .dataframe tbody tr th {\n",
       "        vertical-align: top;\n",
       "    }\n",
       "\n",
       "    .dataframe thead th {\n",
       "        text-align: right;\n",
       "    }\n",
       "</style>\n",
       "<table border=\"1\" class=\"dataframe\">\n",
       "  <thead>\n",
       "    <tr style=\"text-align: right;\">\n",
       "      <th></th>\n",
       "      <th>Rank</th>\n",
       "      <th>Name</th>\n",
       "      <th>Platform</th>\n",
       "      <th>Year</th>\n",
       "      <th>Genre</th>\n",
       "      <th>Publisher</th>\n",
       "      <th>NA_Sales</th>\n",
       "      <th>EU_Sales</th>\n",
       "      <th>JP_Sales</th>\n",
       "      <th>Other_Sales</th>\n",
       "      <th>Global_Sales</th>\n",
       "      <th>NA_Sales_Percent</th>\n",
       "    </tr>\n",
       "  </thead>\n",
       "  <tbody>\n",
       "    <tr>\n",
       "      <th>1</th>\n",
       "      <td>2</td>\n",
       "      <td>Super Mario Bros.</td>\n",
       "      <td>NES</td>\n",
       "      <td>1985.0</td>\n",
       "      <td>Platform</td>\n",
       "      <td>Nintendo</td>\n",
       "      <td>29.08</td>\n",
       "      <td>3.58</td>\n",
       "      <td>6.81</td>\n",
       "      <td>0.77</td>\n",
       "      <td>40.24</td>\n",
       "      <td>0.722664</td>\n",
       "    </tr>\n",
       "    <tr>\n",
       "      <th>374</th>\n",
       "      <td>375</td>\n",
       "      <td>Kung Fu</td>\n",
       "      <td>NES</td>\n",
       "      <td>1985.0</td>\n",
       "      <td>Action</td>\n",
       "      <td>Nintendo</td>\n",
       "      <td>1.64</td>\n",
       "      <td>0.38</td>\n",
       "      <td>1.42</td>\n",
       "      <td>0.06</td>\n",
       "      <td>3.50</td>\n",
       "      <td>0.468571</td>\n",
       "    </tr>\n",
       "    <tr>\n",
       "      <th>868</th>\n",
       "      <td>870</td>\n",
       "      <td>Soccer</td>\n",
       "      <td>NES</td>\n",
       "      <td>1985.0</td>\n",
       "      <td>Sports</td>\n",
       "      <td>Nintendo</td>\n",
       "      <td>0.18</td>\n",
       "      <td>0.23</td>\n",
       "      <td>1.53</td>\n",
       "      <td>0.02</td>\n",
       "      <td>1.96</td>\n",
       "      <td>0.091837</td>\n",
       "    </tr>\n",
       "    <tr>\n",
       "      <th>1260</th>\n",
       "      <td>1262</td>\n",
       "      <td>Ice Climber</td>\n",
       "      <td>NES</td>\n",
       "      <td>1985.0</td>\n",
       "      <td>Platform</td>\n",
       "      <td>Nintendo</td>\n",
       "      <td>0.46</td>\n",
       "      <td>0.10</td>\n",
       "      <td>0.92</td>\n",
       "      <td>0.02</td>\n",
       "      <td>1.50</td>\n",
       "      <td>0.306667</td>\n",
       "    </tr>\n",
       "    <tr>\n",
       "      <th>1490</th>\n",
       "      <td>1492</td>\n",
       "      <td>Gyromite</td>\n",
       "      <td>NES</td>\n",
       "      <td>1985.0</td>\n",
       "      <td>Puzzle</td>\n",
       "      <td>Nintendo</td>\n",
       "      <td>0.73</td>\n",
       "      <td>0.16</td>\n",
       "      <td>0.40</td>\n",
       "      <td>0.03</td>\n",
       "      <td>1.32</td>\n",
       "      <td>0.553030</td>\n",
       "    </tr>\n",
       "  </tbody>\n",
       "</table>\n",
       "</div>"
      ],
      "text/plain": [
       "      Rank               Name Platform    Year     Genre Publisher  NA_Sales  \\\n",
       "1        2  Super Mario Bros.      NES  1985.0  Platform  Nintendo     29.08   \n",
       "374    375            Kung Fu      NES  1985.0    Action  Nintendo      1.64   \n",
       "868    870             Soccer      NES  1985.0    Sports  Nintendo      0.18   \n",
       "1260  1262        Ice Climber      NES  1985.0  Platform  Nintendo      0.46   \n",
       "1490  1492           Gyromite      NES  1985.0    Puzzle  Nintendo      0.73   \n",
       "\n",
       "      EU_Sales  JP_Sales  Other_Sales  Global_Sales  NA_Sales_Percent   \n",
       "1         3.58      6.81         0.77         40.24           0.722664  \n",
       "374       0.38      1.42         0.06          3.50           0.468571  \n",
       "868       0.23      1.53         0.02          1.96           0.091837  \n",
       "1260      0.10      0.92         0.02          1.50           0.306667  \n",
       "1490      0.16      0.40         0.03          1.32           0.553030  "
      ]
     },
     "execution_count": 29,
     "metadata": {},
     "output_type": "execute_result"
    }
   ],
   "source": [
    "df[df['Year'] == 1985].head()"
   ]
  },
  {
   "cell_type": "markdown",
   "metadata": {},
   "source": [
    "### Plot the Platform range for the games that were realeased in 1985"
   ]
  },
  {
   "cell_type": "code",
   "execution_count": 13,
   "metadata": {},
   "outputs": [
    {
     "data": {
      "text/plain": [
       "<matplotlib.axes._subplots.AxesSubplot at 0x11a4d4d10>"
      ]
     },
     "execution_count": 13,
     "metadata": {},
     "output_type": "execute_result"
    },
    {
     "data": {
      "image/png": "[encoded data removed]",
      "text/plain": [
       "<Figure size 432x288 with 1 Axes>"
      ]
     },
     "metadata": {
      "needs_background": "light"
     },
     "output_type": "display_data"
    }
   ],
   "source": [
    "#Activity: \n",
    "# Create a histogram of the platforms for the games released in 1985\n",
    "df[df['Year'] < 1990]['Year'].hist(bins=16)"
   ]
  },
  {
   "cell_type": "markdown",
   "metadata": {},
   "source": [
    "### Describe a specific column "
   ]
  },
  {
   "cell_type": "code",
   "execution_count": 46,
   "metadata": {},
   "outputs": [
    {
     "data": {
      "text/plain": [
       "count      16598\n",
       "unique        12\n",
       "top       Action\n",
       "freq        3316\n",
       "Name: Genre, dtype: object"
      ]
     },
     "execution_count": 46,
     "metadata": {},
     "output_type": "execute_result"
    }
   ],
   "source": [
    "df['Genre'].describe()"
   ]
  },
  {
   "cell_type": "markdown",
   "metadata": {},
   "source": [
    "### How many unique values does the 'Genre' have?"
   ]
  },
  {
   "cell_type": "code",
   "execution_count": 43,
   "metadata": {},
   "outputs": [
    {
     "data": {
      "text/plain": [
       "12"
      ]
     },
     "execution_count": 43,
     "metadata": {},
     "output_type": "execute_result"
    }
   ],
   "source": [
    "df['Genre'].nunique()"
   ]
  },
  {
   "cell_type": "markdown",
   "metadata": {},
   "source": [
    "### Count the different 'Genre' values the dataframe has"
   ]
  },
  {
   "cell_type": "code",
   "execution_count": 14,
   "metadata": {},
   "outputs": [
    {
     "data": {
      "text/plain": [
       "<matplotlib.axes._subplots.AxesSubplot at 0x11a574ed0>"
      ]
     },
     "execution_count": 14,
     "metadata": {},
     "output_type": "execute_result"
    },
    {
     "data": {
      "image/png": "[encoded data removed]",
      "text/plain": [
       "<Figure size 432x288 with 1 Axes>"
      ]
     },
     "metadata": {
      "needs_background": "light"
     },
     "output_type": "display_data"
    }
   ],
   "source": [
    "# df['Genre'].value_counts()\n",
    "df['Genre'].value_counts().plot(kind='bar')"
   ]
  },
  {
   "cell_type": "markdown",
   "metadata": {},
   "source": [
    "### Count the different 'Genre' values the dataframe has and plot horizontaly"
   ]
  },
  {
   "cell_type": "code",
   "execution_count": 49,
   "metadata": {},
   "outputs": [
    {
     "data": {
      "text/plain": [
       "<matplotlib.axes._subplots.AxesSubplot at 0x134beafd0>"
      ]
     },
     "execution_count": 49,
     "metadata": {},
     "output_type": "execute_result"
    },
    {
     "data": {
      "image/png": "[encoded data removed]",
      "text/plain": [
       "<Figure size 1440x360 with 1 Axes>"
      ]
     },
     "metadata": {
      "needs_background": "light"
     },
     "output_type": "display_data"
    }
   ],
   "source": [
    "df['Genre'].value_counts().plot(kind='barh')\n",
    "\n",
    "# Check df['Genre'].value_counts().plot('barh')"
   ]
  },
  {
   "cell_type": "markdown",
   "metadata": {},
   "source": [
    "### Another way to do the count and plot it\n",
    "\n",
    "Seaborn is a Python library created for enhanced data visualization. It makes some aspects of creating plots easier than using something like matplot lib. "
   ]
  },
  {
   "cell_type": "code",
   "execution_count": 20,
   "metadata": {},
   "outputs": [
    {
     "data": {
      "text/plain": [
       "<matplotlib.axes._subplots.AxesSubplot at 0x1269b9390>"
      ]
     },
     "execution_count": 20,
     "metadata": {},
     "output_type": "execute_result"
    },
    {
     "data": {
      "image/png": "[encoded data removed]",
      "text/plain": [
       "<Figure size 1440x360 with 1 Axes>"
      ]
     },
     "metadata": {
      "needs_background": "light"
     },
     "output_type": "display_data"
    }
   ],
   "source": [
    "import seaborn as sns\n",
    "\n",
    "\n",
    "# Bar Chart Example #1 (Simple): Categorical Variables Showing Counts\n",
    "sns.countplot(x=\"Genre\", palette=\"spring\", data=df)\n"
   ]
  },
  {
   "cell_type": "code",
   "execution_count": 51,
   "metadata": {},
   "outputs": [
    {
     "data": {
      "text/plain": [
       "Action          3316\n",
       "Sports          2346\n",
       "Misc            1739\n",
       "Role-Playing    1488\n",
       "Shooter         1310\n",
       "Adventure       1286\n",
       "Racing          1249\n",
       "Platform         886\n",
       "Simulation       867\n",
       "Fighting         848\n",
       "Strategy         681\n",
       "Puzzle           582\n",
       "Name: Genre, dtype: int64"
      ]
     },
     "execution_count": 51,
     "metadata": {},
     "output_type": "execute_result"
    }
   ],
   "source": [
    "df['Genre'].value_counts()"
   ]
  },
  {
   "cell_type": "code",
   "execution_count": 52,
   "metadata": {},
   "outputs": [
    {
     "data": {
      "text/plain": [
       "'{\"Action\":3316,\"Sports\":2346,\"Misc\":1739,\"Role-Playing\":1488,\"Shooter\":1310,\"Adventure\":1286,\"Racing\":1249,\"Platform\":886,\"Simulation\":867,\"Fighting\":848,\"Strategy\":681,\"Puzzle\":582}'"
      ]
     },
     "execution_count": 52,
     "metadata": {},
     "output_type": "execute_result"
    }
   ],
   "source": [
    "df['Genre'].value_counts().to_json()"
   ]
  },
  {
   "cell_type": "code",
   "execution_count": 53,
   "metadata": {},
   "outputs": [
    {
     "data": {
      "text/plain": [
       "<matplotlib.axes._subplots.AxesSubplot at 0x1354cdcc0>"
      ]
     },
     "execution_count": 53,
     "metadata": {},
     "output_type": "execute_result"
    },
    {
     "data": {
      "image/png": "[encoded data removed]",
      "text/plain": [
       "<Figure size 1440x360 with 1 Axes>"
      ]
     },
     "metadata": {
      "needs_background": "light"
     },
     "output_type": "display_data"
    }
   ],
   "source": [
    "df['Genre'].value_counts().plot(kind='bar')"
   ]
  },
  {
   "cell_type": "code",
   "execution_count": 54,
   "metadata": {},
   "outputs": [
    {
     "data": {
      "text/plain": [
       "<matplotlib.axes._subplots.AxesSubplot at 0x1356c7390>"
      ]
     },
     "execution_count": 54,
     "metadata": {},
     "output_type": "execute_result"
    },
    {
     "data": {
      "image/png": "[encoded data removed]",
      "text/plain": [
       "<Figure size 1440x360 with 1 Axes>"
      ]
     },
     "metadata": {},
     "output_type": "display_data"
    }
   ],
   "source": [
    "df['Genre'].value_counts().plot(kind='pie')"
   ]
  },
  {
   "cell_type": "markdown",
   "metadata": {},
   "source": [
    "### Plot sales in NA based for Nintendo based on Genre\n",
    "\n",
    "Groupby is used to split data into groups based on some cirteria, basically we provide a mapping of labels to group names.\n",
    "\n",
    ".groupby()'s by argument is used to determine the groups for the groupby. If by is a function, it’s called on each value of the object’s index. If a dict or Series is passed, the Series or dict VALUES will be used to determine the groups (the Series’ values are first aligned; see .align() method). If an ndarray is passed, the values are used as-is determine the groups. A label or list of labels may be passed to group by the columns in self. Notice that a tuple is interpreted as a (single) key."
   ]
  },
  {
   "cell_type": "code",
   "execution_count": 68,
   "metadata": {},
   "outputs": [
    {
     "name": "stdout",
     "output_type": "stream",
     "text": [
      "('Action', 45       4.40\n",
      "94       4.10\n",
      "100      3.83\n",
      "127      3.74\n",
      "186      1.90\n",
      "         ... \n",
      "12426    0.04\n",
      "13887    0.00\n",
      "14301    0.02\n",
      "16123    0.00\n",
      "16269    0.00\n",
      "Name: NA_Sales, Length: 79, dtype: float64)\n",
      "('Adventure', 50       6.16\n",
      "251      2.19\n",
      "728      1.00\n",
      "919      0.96\n",
      "923      0.87\n",
      "987      0.85\n",
      "1535     0.76\n",
      "1682     0.55\n",
      "1890     0.44\n",
      "2261     0.16\n",
      "2333     0.46\n",
      "2474     0.60\n",
      "2937     0.37\n",
      "3495     0.10\n",
      "3576     0.27\n",
      "4477     0.34\n",
      "4492     0.26\n",
      "4653     0.18\n",
      "4921     0.19\n",
      "4935     0.23\n",
      "5050     0.24\n",
      "5947     0.15\n",
      "7037     0.00\n",
      "7271     0.12\n",
      "7801     0.15\n",
      "8450     0.01\n",
      "8898     0.11\n",
      "9022     0.00\n",
      "10248    0.00\n",
      "10303    0.00\n",
      "10720    0.00\n",
      "11271    0.00\n",
      "12312    0.00\n",
      "13314    0.00\n",
      "16473    0.00\n",
      "Name: NA_Sales, dtype: float64)\n",
      "('Fighting', 39      6.75\n",
      "97      3.24\n",
      "107     4.41\n",
      "157     2.95\n",
      "203     2.59\n",
      "422     2.26\n",
      "465     2.03\n",
      "647     0.77\n",
      "849     0.52\n",
      "1997    0.44\n",
      "2514    0.61\n",
      "2763    0.00\n",
      "3641    0.00\n",
      "3830    0.45\n",
      "4931    0.00\n",
      "7544    0.06\n",
      "8396    0.02\n",
      "8426    0.00\n",
      "Name: NA_Sales, dtype: float64)\n",
      "('Misc', 7        14.03\n",
      "19        4.75\n",
      "74        4.46\n",
      "78        1.79\n",
      "80        3.81\n",
      "         ...  \n",
      "14192     0.01\n",
      "14632     0.00\n",
      "15843     0.00\n",
      "16456     0.00\n",
      "16542     0.00\n",
      "Name: NA_Sales, Length: 100, dtype: float64)\n",
      "('Platform', 1        29.08\n",
      "6        11.38\n",
      "8        14.59\n",
      "18       12.78\n",
      "21       10.83\n",
      "         ...  \n",
      "8404      0.00\n",
      "10747     0.00\n",
      "11282     0.00\n",
      "11759     0.00\n",
      "15991     0.00\n",
      "Name: NA_Sales, Length: 112, dtype: float64)\n",
      "('Puzzle', 5        23.20\n",
      "27        3.44\n",
      "155       2.97\n",
      "170       2.18\n",
      "177       1.22\n",
      "         ...  \n",
      "12069     0.00\n",
      "12373     0.00\n",
      "13024     0.00\n",
      "13796     0.00\n",
      "16357     0.00\n",
      "Name: NA_Sales, Length: 74, dtype: float64)\n",
      "('Racing', 2        15.85\n",
      "11        9.81\n",
      "42        4.74\n",
      "63        5.55\n",
      "76        3.54\n",
      "108       3.13\n",
      "110       4.12\n",
      "163       2.62\n",
      "213       2.91\n",
      "277       2.04\n",
      "391       1.73\n",
      "443       2.31\n",
      "484       1.98\n",
      "509       1.37\n",
      "764       1.47\n",
      "867       1.13\n",
      "1020      1.69\n",
      "1137      1.01\n",
      "1233      0.00\n",
      "1601      1.10\n",
      "1794      0.58\n",
      "1860      0.45\n",
      "2000      0.39\n",
      "2060      0.65\n",
      "2681      0.21\n",
      "3101      0.41\n",
      "3174      0.59\n",
      "3178      0.20\n",
      "3338      0.40\n",
      "3360      0.37\n",
      "3696      0.40\n",
      "4826      0.32\n",
      "5291      0.00\n",
      "6257      0.26\n",
      "6766      0.11\n",
      "8641      0.11\n",
      "10469     0.00\n",
      "Name: NA_Sales, dtype: float64)\n",
      "('Role-Playing', 4        11.27\n",
      "12        9.00\n",
      "20        6.42\n",
      "25        6.06\n",
      "26        5.57\n",
      "         ...  \n",
      "11116     0.00\n",
      "11881     0.07\n",
      "13947     0.00\n",
      "14376     0.00\n",
      "14440     0.00\n",
      "Name: NA_Sales, Length: 106, dtype: float64)\n",
      "('Shooter', 9        26.93\n",
      "84        5.80\n",
      "206       3.06\n",
      "235       1.55\n",
      "296       2.78\n",
      "472       1.61\n",
      "519       1.96\n",
      "955       0.91\n",
      "1108      1.06\n",
      "1476      0.87\n",
      "1560      0.68\n",
      "1678      0.40\n",
      "1750      0.78\n",
      "1914      0.68\n",
      "2197      0.48\n",
      "2632      0.58\n",
      "3214      0.43\n",
      "3740      0.39\n",
      "4453      0.20\n",
      "5288      0.16\n",
      "6767      0.08\n",
      "7094      0.00\n",
      "9479      0.00\n",
      "11514     0.00\n",
      "14997     0.00\n",
      "14999     0.00\n",
      "Name: NA_Sales, dtype: float64)\n",
      "('Simulation', 10       9.07\n",
      "41       2.55\n",
      "73       2.01\n",
      "188      0.96\n",
      "226      1.87\n",
      "321      1.44\n",
      "346      2.23\n",
      "435      1.92\n",
      "476      0.47\n",
      "585      0.63\n",
      "753      1.60\n",
      "855      0.93\n",
      "943      0.83\n",
      "1792     0.46\n",
      "1819     0.56\n",
      "2169     0.40\n",
      "2365     0.47\n",
      "2822     0.16\n",
      "4782     0.00\n",
      "5146     0.30\n",
      "5266     0.28\n",
      "5758     0.00\n",
      "5837     0.22\n",
      "6377     0.25\n",
      "9050     0.00\n",
      "10782    0.09\n",
      "12770    0.00\n",
      "14968    0.00\n",
      "15900    0.00\n",
      "Name: NA_Sales, dtype: float64)\n",
      "('Sports', 0        41.49\n",
      "3        15.75\n",
      "13        8.94\n",
      "14        9.09\n",
      "298       1.22\n",
      "421       0.73\n",
      "581       1.07\n",
      "638       1.27\n",
      "683       0.78\n",
      "754       0.48\n",
      "759       0.14\n",
      "775       0.83\n",
      "781       0.90\n",
      "837       1.25\n",
      "852       0.75\n",
      "868       0.18\n",
      "892       1.51\n",
      "1136      0.99\n",
      "1142      0.66\n",
      "1144      0.98\n",
      "1225      1.09\n",
      "1275      0.37\n",
      "1278      0.28\n",
      "1308      0.93\n",
      "1634      0.58\n",
      "1694      1.02\n",
      "1710      0.50\n",
      "2061      0.41\n",
      "2204      0.26\n",
      "2348      0.39\n",
      "2590      0.39\n",
      "2592      0.00\n",
      "2618      0.75\n",
      "2624      0.22\n",
      "3435      0.00\n",
      "3819      0.49\n",
      "3822      0.24\n",
      "4091      0.15\n",
      "4400      0.13\n",
      "4404      0.32\n",
      "4852      0.19\n",
      "4981      0.00\n",
      "5988      0.02\n",
      "6028      0.23\n",
      "6692      0.20\n",
      "6763      0.19\n",
      "7080      0.14\n",
      "7174      0.16\n",
      "7901      0.00\n",
      "8449      0.00\n",
      "8494      0.11\n",
      "10035     0.00\n",
      "11923     0.00\n",
      "12123     0.00\n",
      "14626     0.00\n",
      "Name: NA_Sales, dtype: float64)\n",
      "('Strategy', 165      3.18\n",
      "335      1.49\n",
      "547      1.02\n",
      "1125     0.78\n",
      "1421     0.00\n",
      "1669     0.48\n",
      "1843     0.45\n",
      "2133     0.49\n",
      "2335     0.42\n",
      "2336     0.00\n",
      "2923     0.50\n",
      "3081     0.29\n",
      "3113     0.47\n",
      "3217     0.44\n",
      "3333     0.11\n",
      "3485     0.00\n",
      "3902     0.28\n",
      "4804     0.30\n",
      "4811     0.25\n",
      "5274     0.22\n",
      "6346     0.22\n",
      "6379     0.00\n",
      "6582     0.00\n",
      "7290     0.14\n",
      "7505     0.00\n",
      "8037     0.00\n",
      "8588     0.13\n",
      "10143    0.00\n",
      "10629    0.00\n",
      "11509    0.00\n",
      "12954    0.00\n",
      "14260    0.00\n",
      "Name: NA_Sales, dtype: float64)\n"
     ]
    }
   ],
   "source": [
    "type(df[df['Publisher'] == 'Nintendo'].groupby('Genre'))\n",
    "\n",
    "for i in df[df['Publisher'] == 'Nintendo'].groupby('Genre')['NA_Sales']:\n",
    "    print(i)\n",
    "    "
   ]
  },
  {
   "cell_type": "code",
   "execution_count": 69,
   "metadata": {},
   "outputs": [
    {
     "data": {
      "text/plain": [
       "Genre\n",
       "Action          AxesSubplot(0.125,0.125;0.775x0.755)\n",
       "Adventure       AxesSubplot(0.125,0.125;0.775x0.755)\n",
       "Fighting        AxesSubplot(0.125,0.125;0.775x0.755)\n",
       "Misc            AxesSubplot(0.125,0.125;0.775x0.755)\n",
       "Platform        AxesSubplot(0.125,0.125;0.775x0.755)\n",
       "Puzzle          AxesSubplot(0.125,0.125;0.775x0.755)\n",
       "Racing          AxesSubplot(0.125,0.125;0.775x0.755)\n",
       "Role-Playing    AxesSubplot(0.125,0.125;0.775x0.755)\n",
       "Shooter         AxesSubplot(0.125,0.125;0.775x0.755)\n",
       "Simulation      AxesSubplot(0.125,0.125;0.775x0.755)\n",
       "Sports          AxesSubplot(0.125,0.125;0.775x0.755)\n",
       "Strategy        AxesSubplot(0.125,0.125;0.775x0.755)\n",
       "Name: NA_Sales, dtype: object"
      ]
     },
     "execution_count": 69,
     "metadata": {},
     "output_type": "execute_result"
    },
    {
     "data": {
      "image/png": "[encoded data removed]",
      "text/plain": [
       "<Figure size 1440x360 with 1 Axes>"
      ]
     },
     "metadata": {
      "needs_background": "light"
     },
     "output_type": "display_data"
    }
   ],
   "source": [
    "df[df['Publisher'] == 'Nintendo'].groupby('Genre')['NA_Sales'].hist(bins=16)"
   ]
  },
  {
   "cell_type": "code",
   "execution_count": 70,
   "metadata": {},
   "outputs": [
    {
     "data": {
      "text/plain": [
       "Genre     NA_Sales\n",
       "Action    0.00        18\n",
       "          0.20         3\n",
       "          0.04         2\n",
       "          0.10         2\n",
       "          0.16         2\n",
       "                      ..\n",
       "Strategy  0.50         1\n",
       "          0.78         1\n",
       "          1.02         1\n",
       "          1.49         1\n",
       "          3.18         1\n",
       "Name: NA_Sales, Length: 465, dtype: int64"
      ]
     },
     "execution_count": 70,
     "metadata": {},
     "output_type": "execute_result"
    }
   ],
   "source": [
    "df[df['Publisher'] == 'Nintendo'].groupby('Genre')['NA_Sales'].value_counts()\n"
   ]
  },
  {
   "cell_type": "raw",
   "metadata": {},
   "source": []
  },
  {
   "cell_type": "markdown",
   "metadata": {},
   "source": [
    "### Example of `agg` Method\n",
    "\n",
    "Walk through the below example to see how to use the [agg](https://pandas.pydata.org/pandas-docs/stable/reference/api/pandas.DataFrame.agg.html) method in Pandas. For more information, check out this [Tutorialspoint on groupby and agg](https://www.tutorialspoint.com/python_pandas/python_pandas_groupby.htm)\n",
    "\n",
    "### Difference between agg and apply\n",
    "\n",
    "apply applies the function to each group (your Year). Your function returns 1, so you end up with 1 value for each of 3 groups.\n",
    "\n",
    "agg aggregates each column (feature) for each group, so you end up with one value per column per group."
   ]
  },
  {
   "cell_type": "code",
   "execution_count": 85,
   "metadata": {},
   "outputs": [
    {
     "data": {
      "text/plain": [
       "Year\n",
       "2014    795.25\n",
       "2015    769.50\n",
       "2016    725.00\n",
       "2017    739.00\n",
       "Name: Points, dtype: float64"
      ]
     },
     "execution_count": 85,
     "metadata": {},
     "output_type": "execute_result"
    }
   ],
   "source": [
    "# import the pandas library\n",
    "import pandas as pd\n",
    "import numpy as np\n",
    "\n",
    "ipl_data = {'Team': ['Riders', 'Riders', 'Devils', 'Devils', 'Kings',\n",
    "         'kings', 'Kings', 'Kings', 'Riders', 'Royals', 'Royals', 'Riders'],\n",
    "         'Rank': [1, 2, 2, 3, 3,4 ,1 ,1,2 , 4,1,2],\n",
    "         'Year': [2014,2015,2014,2015,2014,2015,2016,2017,2016,2014,2015,2017],\n",
    "         'Points':[876,789,863,673,741,812,756,788,694,701,804,690]}\n",
    "team_df = pd.DataFrame(ipl_data)\n",
    "\n",
    "grouped = team_df.groupby('Year')\n",
    "team_df.groupby('Year')['Points'].apply(np.mean)\n",
    "\n",
    "#https://www.tutorialspoint.com/python_pandas/python_pandas_groupby.htm"
   ]
  },
  {
   "cell_type": "markdown",
   "metadata": {},
   "source": [
    "### What is the average number of sales by Genre for Publisher Nintendo"
   ]
  },
  {
   "cell_type": "code",
   "execution_count": 87,
   "metadata": {},
   "outputs": [
    {
     "data": {
      "text/plain": [
       "Genre\n",
       "Action          0.803671\n",
       "Adventure       0.506286\n",
       "Fighting        1.505556\n",
       "Misc            0.619800\n",
       "Platform        1.965536\n",
       "Puzzle          0.753243\n",
       "Racing          1.987838\n",
       "Role-Playing    0.996509\n",
       "Shooter         1.976538\n",
       "Simulation      1.024138\n",
       "Sports          1.795818\n",
       "Strategy        0.364375\n",
       "Name: NA_Sales, dtype: float64"
      ]
     },
     "execution_count": 87,
     "metadata": {},
     "output_type": "execute_result"
    }
   ],
   "source": [
    "df[df['Publisher'] == 'Nintendo'].groupby('Genre')['NA_Sales'].agg(np.mean)"
   ]
  },
  {
   "cell_type": "markdown",
   "metadata": {},
   "source": [
    "### What is the largest number of sales by Genre for Publisher Nintendo"
   ]
  },
  {
   "cell_type": "code",
   "execution_count": 88,
   "metadata": {},
   "outputs": [
    {
     "data": {
      "text/plain": [
       "Genre\n",
       "Action           4.40\n",
       "Adventure        6.16\n",
       "Fighting         6.75\n",
       "Misc            14.03\n",
       "Platform        29.08\n",
       "Puzzle          23.20\n",
       "Racing          15.85\n",
       "Role-Playing    11.27\n",
       "Shooter         26.93\n",
       "Simulation       9.07\n",
       "Sports          41.49\n",
       "Strategy         3.18\n",
       "Name: NA_Sales, dtype: float64"
      ]
     },
     "execution_count": 88,
     "metadata": {},
     "output_type": "execute_result"
    }
   ],
   "source": [
    "df[df['Publisher'] == 'Nintendo'].groupby('Genre')['NA_Sales'].agg(np.max)"
   ]
  },
  {
   "cell_type": "markdown",
   "metadata": {},
   "source": [
    "### Plot the sales in Japan vs sales in NA using seaborn"
   ]
  },
  {
   "cell_type": "code",
   "execution_count": 91,
   "metadata": {},
   "outputs": [
    {
     "data": {
      "text/plain": [
       "<matplotlib.axes._subplots.AxesSubplot at 0x11e2b4358>"
      ]
     },
     "execution_count": 91,
     "metadata": {},
     "output_type": "execute_result"
    },
    {
     "data": {
      "image/png": "[encoded data removed]",
      "text/plain": [
       "<Figure size 1440x360 with 1 Axes>"
      ]
     },
     "metadata": {
      "needs_background": "light"
     },
     "output_type": "display_data"
    }
   ],
   "source": [
    "sns.regplot(x=\"NA_Sales\", y=\"JP_Sales\", fit_reg=False, data=df)"
   ]
  },
  {
   "cell_type": "code",
   "execution_count": 92,
   "metadata": {},
   "outputs": [
    {
     "data": {
      "text/plain": [
       "<matplotlib.axes._subplots.AxesSubplot at 0x1375837b8>"
      ]
     },
     "execution_count": 92,
     "metadata": {},
     "output_type": "execute_result"
    },
    {
     "data": {
      "image/png": "[encoded data removed]",
      "text/plain": [
       "<Figure size 1440x360 with 1 Axes>"
      ]
     },
     "metadata": {
      "needs_background": "light"
     },
     "output_type": "display_data"
    }
   ],
   "source": [
    "df.plot.scatter(x=\"NA_Sales\", y=\"JP_Sales\") #the same thing but with pandas built in plotting"
   ]
  },
  {
   "cell_type": "markdown",
   "metadata": {},
   "source": [
    "### Plot sales by Genre for NA for years after 2010"
   ]
  },
  {
   "cell_type": "code",
   "execution_count": 102,
   "metadata": {},
   "outputs": [
    {
     "data": {
      "text/plain": [
       "<matplotlib.axes._subplots.AxesSubplot at 0x14d6620b8>"
      ]
     },
     "execution_count": 102,
     "metadata": {},
     "output_type": "execute_result"
    },
    {
     "data": {
      "image/png": "[encoded data removed]",
      "text/plain": [
       "<Figure size 1080x1080 with 1 Axes>"
      ]
     },
     "metadata": {
      "needs_background": "light"
     },
     "output_type": "display_data"
    }
   ],
   "source": [
    "plt.rcParams['figure.figsize'] = [15, 15]\n",
    "sns.barplot(x=\"Year\", y=\"NA_Sales\", hue=\"Genre\", data=df[df[\"Year\"] > 2010])#limit dataframe to smaller year range"
   ]
  },
  {
   "cell_type": "markdown",
   "metadata": {},
   "source": [
    "### Count the number of genres for Wii and PS2"
   ]
  },
  {
   "cell_type": "code",
   "execution_count": 128,
   "metadata": {},
   "outputs": [
    {
     "data": {
      "text/plain": [
       "<matplotlib.axes._subplots.AxesSubplot at 0x151bc0908>"
      ]
     },
     "execution_count": 128,
     "metadata": {},
     "output_type": "execute_result"
    },
    {
     "data": {
      "image/png": "[encoded data removed]",
      "text/plain": [
       "<Figure size 1080x1080 with 1 Axes>"
      ]
     },
     "metadata": {
      "needs_background": "light"
     },
     "output_type": "display_data"
    }
   ],
   "source": [
    "#To select rows whose column value is in an iterable, some_values, use isin:\n",
    "\n",
    "#df[df[\"Platform\"].isin([\"Wii\", \"PS2\"])]\n",
    "\n",
    "sns.countplot(x=\"Platform\", hue=\"Genre\", data=df[df[\"Platform\"].isin([\"Wii\", \"PS2\"])])"
   ]
  },
  {
   "cell_type": "code",
   "execution_count": 129,
   "metadata": {},
   "outputs": [
    {
     "data": {
      "text/plain": [
       "<matplotlib.axes._subplots.AxesSubplot at 0x151c21240>"
      ]
     },
     "execution_count": 129,
     "metadata": {},
     "output_type": "execute_result"
    },
    {
     "data": {
      "image/png": "[encoded data removed]",
      "text/plain": [
       "<Figure size 1080x1080 with 1 Axes>"
      ]
     },
     "metadata": {
      "needs_background": "light"
     },
     "output_type": "display_data"
    }
   ],
   "source": [
    "import seaborn as sns\n",
    "sns.countplot(x=\"Platform\", hue=\"Genre\", data=df[df[\"Platform\"].isin([\"Wii\", \"PS2\"])])"
   ]
  },
  {
   "cell_type": "code",
   "execution_count": 131,
   "metadata": {},
   "outputs": [
    {
     "data": {
      "text/plain": [
       "'{\"2600\":{\"Action\":61,\"Adventure\":2,\"Fighting\":2,\"Misc\":5,\"Platform\":9,\"Puzzle\":11,\"Racing\":6,\"Role-Playing\":0,\"Shooter\":24,\"Simulation\":1,\"Sports\":12,\"Strategy\":0},\"3DO\":{\"Action\":0,\"Adventure\":1,\"Fighting\":0,\"Misc\":0,\"Platform\":0,\"Puzzle\":1,\"Racing\":0,\"Role-Playing\":0,\"Shooter\":0,\"Simulation\":1,\"Sports\":0,\"Strategy\":0},\"3DS\":{\"Action\":182,\"Adventure\":37,\"Fighting\":14,\"Misc\":53,\"Platform\":28,\"Puzzle\":20,\"Racing\":11,\"Role-Playing\":86,\"Shooter\":7,\"Simulation\":30,\"Sports\":26,\"Strategy\":15},\"DC\":{\"Action\":3,\"Adventure\":11,\"Fighting\":12,\"Misc\":0,\"Platform\":2,\"Puzzle\":0,\"Racing\":6,\"Role-Playing\":4,\"Shooter\":3,\"Simulation\":1,\"Sports\":10,\"Strategy\":0},\"DS\":{\"Action\":343,\"Adventure\":240,\"Fighting\":36,\"Misc\":393,\"Platform\":92,\"Puzzle\":238,\"Racing\":67,\"Role-Playing\":200,\"Shooter\":42,\"Simulation\":285,\"Sports\":148,\"Strategy\":79},\"GB\":{\"Action\":6,\"Adventure\":5,\"Fighting\":0,\"Misc\":8,\"Platform\":19,\"Puzzle\":15,\"Racing\":2,\"Role-Playing\":21,\"Shooter\":1,\"Simulation\":5,\"Sports\":9,\"Strategy\":7},\"GBA\":{\"Action\":167,\"Adventure\":38,\"Fighting\":23,\"Misc\":110,\"Platform\":142,\"Puzzle\":41,\"Racing\":64,\"Role-Playing\":73,\"Shooter\":40,\"Simulation\":18,\"Sports\":88,\"Strategy\":18},\"GC\":{\"Action\":101,\"Adventure\":20,\"Fighting\":42,\"Misc\":36,\"Platform\":73,\"Puzzle\":13,\"Racing\":63,\"Role-Playing\":27,\"Shooter\":48,\"Simulation\":12,\"Sports\":110,\"Strategy\":11},\"GEN\":{\"Action\":3,\"Adventure\":2,\"Fighting\":5,\"Misc\":1,\"Platform\":7,\"Puzzle\":0,\"Racing\":1,\"Role-Playing\":3,\"Shooter\":1,\"Simulation\":0,\"Sports\":3,\"Strategy\":1},\"GG\":{\"Action\":0,\"Adventure\":0,\"Fighting\":0,\"Misc\":0,\"Platform\":1,\"Puzzle\":0,\"Racing\":0,\"Role-Playing\":0,\"Shooter\":0,\"Simulation\":0,\"Sports\":0,\"Strategy\":0},\"N64\":{\"Action\":38,\"Adventure\":4,\"Fighting\":29,\"Misc\":18,\"Platform\":30,\"Puzzle\":12,\"Racing\":57,\"Role-Playing\":8,\"Shooter\":24,\"Simulation\":10,\"Sports\":80,\"Strategy\":9},\"NES\":{\"Action\":13,\"Adventure\":1,\"Fighting\":4,\"Misc\":2,\"Platform\":28,\"Puzzle\":14,\"Racing\":4,\"Role-Playing\":11,\"Shooter\":7,\"Simulation\":0,\"Sports\":14,\"Strategy\":0},\"NG\":{\"Action\":0,\"Adventure\":0,\"Fighting\":11,\"Misc\":0,\"Platform\":0,\"Puzzle\":0,\"Racing\":0,\"Role-Playing\":0,\"Shooter\":0,\"Simulation\":0,\"Sports\":1,\"Strategy\":0},\"PC\":{\"Action\":165,\"Adventure\":65,\"Fighting\":6,\"Misc\":24,\"Platform\":11,\"Puzzle\":25,\"Racing\":60,\"Role-Playing\":104,\"Shooter\":148,\"Simulation\":115,\"Sports\":49,\"Strategy\":188},\"PCFX\":{\"Action\":0,\"Adventure\":0,\"Fighting\":0,\"Misc\":0,\"Platform\":0,\"Puzzle\":0,\"Racing\":0,\"Role-Playing\":1,\"Shooter\":0,\"Simulation\":0,\"Sports\":0,\"Strategy\":0},\"PS\":{\"Action\":157,\"Adventure\":69,\"Fighting\":108,\"Misc\":76,\"Platform\":64,\"Puzzle\":32,\"Racing\":145,\"Role-Playing\":97,\"Shooter\":96,\"Simulation\":60,\"Sports\":222,\"Strategy\":70},\"PS2\":{\"Action\":348,\"Adventure\":196,\"Fighting\":150,\"Misc\":222,\"Platform\":103,\"Puzzle\":18,\"Racing\":216,\"Role-Playing\":187,\"Shooter\":160,\"Simulation\":90,\"Sports\":400,\"Strategy\":71},\"PS3\":{\"Action\":380,\"Adventure\":74,\"Fighting\":76,\"Misc\":124,\"Platform\":37,\"Puzzle\":3,\"Racing\":92,\"Role-Playing\":119,\"Shooter\":156,\"Simulation\":31,\"Sports\":213,\"Strategy\":24},\"PS4\":{\"Action\":122,\"Adventure\":19,\"Fighting\":17,\"Misc\":15,\"Platform\":11,\"Puzzle\":1,\"Racing\":17,\"Role-Playing\":47,\"Shooter\":34,\"Simulation\":5,\"Sports\":43,\"Strategy\":5},\"PSP\":{\"Action\":222,\"Adventure\":213,\"Fighting\":74,\"Misc\":106,\"Platform\":36,\"Puzzle\":44,\"Racing\":65,\"Role-Playing\":192,\"Shooter\":37,\"Simulation\":29,\"Sports\":135,\"Strategy\":60},\"PSV\":{\"Action\":142,\"Adventure\":86,\"Fighting\":16,\"Misc\":24,\"Platform\":10,\"Puzzle\":3,\"Racing\":11,\"Role-Playing\":83,\"Shooter\":5,\"Simulation\":3,\"Sports\":23,\"Strategy\":7},\"SAT\":{\"Action\":3,\"Adventure\":26,\"Fighting\":31,\"Misc\":15,\"Platform\":5,\"Puzzle\":5,\"Racing\":8,\"Role-Playing\":17,\"Shooter\":22,\"Simulation\":7,\"Sports\":16,\"Strategy\":18},\"SCD\":{\"Action\":0,\"Adventure\":0,\"Fighting\":0,\"Misc\":2,\"Platform\":1,\"Puzzle\":0,\"Racing\":1,\"Role-Playing\":1,\"Shooter\":0,\"Simulation\":0,\"Sports\":0,\"Strategy\":1},\"SNES\":{\"Action\":12,\"Adventure\":4,\"Fighting\":25,\"Misc\":17,\"Platform\":26,\"Puzzle\":13,\"Racing\":9,\"Role-Playing\":50,\"Shooter\":10,\"Simulation\":9,\"Sports\":49,\"Strategy\":15},\"TG16\":{\"Action\":0,\"Adventure\":1,\"Fighting\":0,\"Misc\":0,\"Platform\":0,\"Puzzle\":0,\"Racing\":0,\"Role-Playing\":0,\"Shooter\":1,\"Simulation\":0,\"Sports\":0,\"Strategy\":0},\"WS\":{\"Action\":0,\"Adventure\":0,\"Fighting\":0,\"Misc\":0,\"Platform\":0,\"Puzzle\":0,\"Racing\":0,\"Role-Playing\":4,\"Shooter\":0,\"Simulation\":0,\"Sports\":0,\"Strategy\":2},\"Wii\":{\"Action\":238,\"Adventure\":84,\"Fighting\":42,\"Misc\":280,\"Platform\":58,\"Puzzle\":55,\"Racing\":94,\"Role-Playing\":35,\"Shooter\":66,\"Simulation\":87,\"Sports\":261,\"Strategy\":25},\"WiiU\":{\"Action\":63,\"Adventure\":3,\"Fighting\":5,\"Misc\":21,\"Platform\":16,\"Puzzle\":4,\"Racing\":3,\"Role-Playing\":6,\"Shooter\":10,\"Simulation\":1,\"Sports\":8,\"Strategy\":3},\"X360\":{\"Action\":324,\"Adventure\":47,\"Fighting\":65,\"Misc\":126,\"Platform\":24,\"Puzzle\":7,\"Racing\":105,\"Role-Playing\":76,\"Shooter\":203,\"Simulation\":40,\"Sports\":220,\"Strategy\":28},\"XB\":{\"Action\":155,\"Adventure\":26,\"Fighting\":48,\"Misc\":46,\"Platform\":49,\"Puzzle\":7,\"Racing\":123,\"Role-Playing\":23,\"Shooter\":132,\"Simulation\":24,\"Sports\":170,\"Strategy\":21},\"XOne\":{\"Action\":68,\"Adventure\":12,\"Fighting\":7,\"Misc\":15,\"Platform\":4,\"Puzzle\":0,\"Racing\":19,\"Role-Playing\":13,\"Shooter\":33,\"Simulation\":3,\"Sports\":36,\"Strategy\":3}}'"
      ]
     },
     "execution_count": 131,
     "metadata": {},
     "output_type": "execute_result"
    }
   ],
   "source": [
    "#Compute a simple cross tabulation of two (or more) factors. \n",
    "#By default computes a frequency table of the factors unless an array of values and an aggregation function are passed\n",
    "\n",
    "pd.crosstab(df['Genre'], df['Platform']).to_json()"
   ]
  },
  {
   "cell_type": "markdown",
   "metadata": {},
   "source": [
    "### Sometimes it is hard to read values from a plot. What are the number of female and male passengers at each Passenger Class?"
   ]
  },
  {
   "cell_type": "code",
   "execution_count": 135,
   "metadata": {},
   "outputs": [
    {
     "data": {
      "text/html": [
       "<div>\n",
       "<style scoped>\n",
       "    .dataframe tbody tr th:only-of-type {\n",
       "        vertical-align: middle;\n",
       "    }\n",
       "\n",
       "    .dataframe tbody tr th {\n",
       "        vertical-align: top;\n",
       "    }\n",
       "\n",
       "    .dataframe thead th {\n",
       "        text-align: right;\n",
       "    }\n",
       "</style>\n",
       "<table border=\"1\" class=\"dataframe\">\n",
       "  <thead>\n",
       "    <tr style=\"text-align: right;\">\n",
       "      <th>Platform</th>\n",
       "      <th>2600</th>\n",
       "      <th>3DO</th>\n",
       "      <th>3DS</th>\n",
       "      <th>DC</th>\n",
       "      <th>DS</th>\n",
       "      <th>GB</th>\n",
       "      <th>GBA</th>\n",
       "      <th>GC</th>\n",
       "      <th>GEN</th>\n",
       "      <th>GG</th>\n",
       "      <th>...</th>\n",
       "      <th>SAT</th>\n",
       "      <th>SCD</th>\n",
       "      <th>SNES</th>\n",
       "      <th>TG16</th>\n",
       "      <th>WS</th>\n",
       "      <th>Wii</th>\n",
       "      <th>WiiU</th>\n",
       "      <th>X360</th>\n",
       "      <th>XB</th>\n",
       "      <th>XOne</th>\n",
       "    </tr>\n",
       "    <tr>\n",
       "      <th>Genre</th>\n",
       "      <th></th>\n",
       "      <th></th>\n",
       "      <th></th>\n",
       "      <th></th>\n",
       "      <th></th>\n",
       "      <th></th>\n",
       "      <th></th>\n",
       "      <th></th>\n",
       "      <th></th>\n",
       "      <th></th>\n",
       "      <th></th>\n",
       "      <th></th>\n",
       "      <th></th>\n",
       "      <th></th>\n",
       "      <th></th>\n",
       "      <th></th>\n",
       "      <th></th>\n",
       "      <th></th>\n",
       "      <th></th>\n",
       "      <th></th>\n",
       "      <th></th>\n",
       "    </tr>\n",
       "  </thead>\n",
       "  <tbody>\n",
       "    <tr>\n",
       "      <th>Action</th>\n",
       "      <td>61</td>\n",
       "      <td>0</td>\n",
       "      <td>182</td>\n",
       "      <td>3</td>\n",
       "      <td>343</td>\n",
       "      <td>6</td>\n",
       "      <td>167</td>\n",
       "      <td>101</td>\n",
       "      <td>3</td>\n",
       "      <td>0</td>\n",
       "      <td>...</td>\n",
       "      <td>3</td>\n",
       "      <td>0</td>\n",
       "      <td>12</td>\n",
       "      <td>0</td>\n",
       "      <td>0</td>\n",
       "      <td>238</td>\n",
       "      <td>63</td>\n",
       "      <td>324</td>\n",
       "      <td>155</td>\n",
       "      <td>68</td>\n",
       "    </tr>\n",
       "    <tr>\n",
       "      <th>Adventure</th>\n",
       "      <td>2</td>\n",
       "      <td>1</td>\n",
       "      <td>37</td>\n",
       "      <td>11</td>\n",
       "      <td>240</td>\n",
       "      <td>5</td>\n",
       "      <td>38</td>\n",
       "      <td>20</td>\n",
       "      <td>2</td>\n",
       "      <td>0</td>\n",
       "      <td>...</td>\n",
       "      <td>26</td>\n",
       "      <td>0</td>\n",
       "      <td>4</td>\n",
       "      <td>1</td>\n",
       "      <td>0</td>\n",
       "      <td>84</td>\n",
       "      <td>3</td>\n",
       "      <td>47</td>\n",
       "      <td>26</td>\n",
       "      <td>12</td>\n",
       "    </tr>\n",
       "    <tr>\n",
       "      <th>Fighting</th>\n",
       "      <td>2</td>\n",
       "      <td>0</td>\n",
       "      <td>14</td>\n",
       "      <td>12</td>\n",
       "      <td>36</td>\n",
       "      <td>0</td>\n",
       "      <td>23</td>\n",
       "      <td>42</td>\n",
       "      <td>5</td>\n",
       "      <td>0</td>\n",
       "      <td>...</td>\n",
       "      <td>31</td>\n",
       "      <td>0</td>\n",
       "      <td>25</td>\n",
       "      <td>0</td>\n",
       "      <td>0</td>\n",
       "      <td>42</td>\n",
       "      <td>5</td>\n",
       "      <td>65</td>\n",
       "      <td>48</td>\n",
       "      <td>7</td>\n",
       "    </tr>\n",
       "    <tr>\n",
       "      <th>Misc</th>\n",
       "      <td>5</td>\n",
       "      <td>0</td>\n",
       "      <td>53</td>\n",
       "      <td>0</td>\n",
       "      <td>393</td>\n",
       "      <td>8</td>\n",
       "      <td>110</td>\n",
       "      <td>36</td>\n",
       "      <td>1</td>\n",
       "      <td>0</td>\n",
       "      <td>...</td>\n",
       "      <td>15</td>\n",
       "      <td>2</td>\n",
       "      <td>17</td>\n",
       "      <td>0</td>\n",
       "      <td>0</td>\n",
       "      <td>280</td>\n",
       "      <td>21</td>\n",
       "      <td>126</td>\n",
       "      <td>46</td>\n",
       "      <td>15</td>\n",
       "    </tr>\n",
       "    <tr>\n",
       "      <th>Platform</th>\n",
       "      <td>9</td>\n",
       "      <td>0</td>\n",
       "      <td>28</td>\n",
       "      <td>2</td>\n",
       "      <td>92</td>\n",
       "      <td>19</td>\n",
       "      <td>142</td>\n",
       "      <td>73</td>\n",
       "      <td>7</td>\n",
       "      <td>1</td>\n",
       "      <td>...</td>\n",
       "      <td>5</td>\n",
       "      <td>1</td>\n",
       "      <td>26</td>\n",
       "      <td>0</td>\n",
       "      <td>0</td>\n",
       "      <td>58</td>\n",
       "      <td>16</td>\n",
       "      <td>24</td>\n",
       "      <td>49</td>\n",
       "      <td>4</td>\n",
       "    </tr>\n",
       "    <tr>\n",
       "      <th>Puzzle</th>\n",
       "      <td>11</td>\n",
       "      <td>1</td>\n",
       "      <td>20</td>\n",
       "      <td>0</td>\n",
       "      <td>238</td>\n",
       "      <td>15</td>\n",
       "      <td>41</td>\n",
       "      <td>13</td>\n",
       "      <td>0</td>\n",
       "      <td>0</td>\n",
       "      <td>...</td>\n",
       "      <td>5</td>\n",
       "      <td>0</td>\n",
       "      <td>13</td>\n",
       "      <td>0</td>\n",
       "      <td>0</td>\n",
       "      <td>55</td>\n",
       "      <td>4</td>\n",
       "      <td>7</td>\n",
       "      <td>7</td>\n",
       "      <td>0</td>\n",
       "    </tr>\n",
       "    <tr>\n",
       "      <th>Racing</th>\n",
       "      <td>6</td>\n",
       "      <td>0</td>\n",
       "      <td>11</td>\n",
       "      <td>6</td>\n",
       "      <td>67</td>\n",
       "      <td>2</td>\n",
       "      <td>64</td>\n",
       "      <td>63</td>\n",
       "      <td>1</td>\n",
       "      <td>0</td>\n",
       "      <td>...</td>\n",
       "      <td>8</td>\n",
       "      <td>1</td>\n",
       "      <td>9</td>\n",
       "      <td>0</td>\n",
       "      <td>0</td>\n",
       "      <td>94</td>\n",
       "      <td>3</td>\n",
       "      <td>105</td>\n",
       "      <td>123</td>\n",
       "      <td>19</td>\n",
       "    </tr>\n",
       "    <tr>\n",
       "      <th>Role-Playing</th>\n",
       "      <td>0</td>\n",
       "      <td>0</td>\n",
       "      <td>86</td>\n",
       "      <td>4</td>\n",
       "      <td>200</td>\n",
       "      <td>21</td>\n",
       "      <td>73</td>\n",
       "      <td>27</td>\n",
       "      <td>3</td>\n",
       "      <td>0</td>\n",
       "      <td>...</td>\n",
       "      <td>17</td>\n",
       "      <td>1</td>\n",
       "      <td>50</td>\n",
       "      <td>0</td>\n",
       "      <td>4</td>\n",
       "      <td>35</td>\n",
       "      <td>6</td>\n",
       "      <td>76</td>\n",
       "      <td>23</td>\n",
       "      <td>13</td>\n",
       "    </tr>\n",
       "    <tr>\n",
       "      <th>Shooter</th>\n",
       "      <td>24</td>\n",
       "      <td>0</td>\n",
       "      <td>7</td>\n",
       "      <td>3</td>\n",
       "      <td>42</td>\n",
       "      <td>1</td>\n",
       "      <td>40</td>\n",
       "      <td>48</td>\n",
       "      <td>1</td>\n",
       "      <td>0</td>\n",
       "      <td>...</td>\n",
       "      <td>22</td>\n",
       "      <td>0</td>\n",
       "      <td>10</td>\n",
       "      <td>1</td>\n",
       "      <td>0</td>\n",
       "      <td>66</td>\n",
       "      <td>10</td>\n",
       "      <td>203</td>\n",
       "      <td>132</td>\n",
       "      <td>33</td>\n",
       "    </tr>\n",
       "    <tr>\n",
       "      <th>Simulation</th>\n",
       "      <td>1</td>\n",
       "      <td>1</td>\n",
       "      <td>30</td>\n",
       "      <td>1</td>\n",
       "      <td>285</td>\n",
       "      <td>5</td>\n",
       "      <td>18</td>\n",
       "      <td>12</td>\n",
       "      <td>0</td>\n",
       "      <td>0</td>\n",
       "      <td>...</td>\n",
       "      <td>7</td>\n",
       "      <td>0</td>\n",
       "      <td>9</td>\n",
       "      <td>0</td>\n",
       "      <td>0</td>\n",
       "      <td>87</td>\n",
       "      <td>1</td>\n",
       "      <td>40</td>\n",
       "      <td>24</td>\n",
       "      <td>3</td>\n",
       "    </tr>\n",
       "    <tr>\n",
       "      <th>Sports</th>\n",
       "      <td>12</td>\n",
       "      <td>0</td>\n",
       "      <td>26</td>\n",
       "      <td>10</td>\n",
       "      <td>148</td>\n",
       "      <td>9</td>\n",
       "      <td>88</td>\n",
       "      <td>110</td>\n",
       "      <td>3</td>\n",
       "      <td>0</td>\n",
       "      <td>...</td>\n",
       "      <td>16</td>\n",
       "      <td>0</td>\n",
       "      <td>49</td>\n",
       "      <td>0</td>\n",
       "      <td>0</td>\n",
       "      <td>261</td>\n",
       "      <td>8</td>\n",
       "      <td>220</td>\n",
       "      <td>170</td>\n",
       "      <td>36</td>\n",
       "    </tr>\n",
       "    <tr>\n",
       "      <th>Strategy</th>\n",
       "      <td>0</td>\n",
       "      <td>0</td>\n",
       "      <td>15</td>\n",
       "      <td>0</td>\n",
       "      <td>79</td>\n",
       "      <td>7</td>\n",
       "      <td>18</td>\n",
       "      <td>11</td>\n",
       "      <td>1</td>\n",
       "      <td>0</td>\n",
       "      <td>...</td>\n",
       "      <td>18</td>\n",
       "      <td>1</td>\n",
       "      <td>15</td>\n",
       "      <td>0</td>\n",
       "      <td>2</td>\n",
       "      <td>25</td>\n",
       "      <td>3</td>\n",
       "      <td>28</td>\n",
       "      <td>21</td>\n",
       "      <td>3</td>\n",
       "    </tr>\n",
       "  </tbody>\n",
       "</table>\n",
       "<p>12 rows × 31 columns</p>\n",
       "</div>"
      ],
      "text/plain": [
       "Platform      2600  3DO  3DS  DC   DS  GB  GBA   GC  GEN  GG  ...  SAT  SCD  \\\n",
       "Genre                                                         ...             \n",
       "Action          61    0  182   3  343   6  167  101    3   0  ...    3    0   \n",
       "Adventure        2    1   37  11  240   5   38   20    2   0  ...   26    0   \n",
       "Fighting         2    0   14  12   36   0   23   42    5   0  ...   31    0   \n",
       "Misc             5    0   53   0  393   8  110   36    1   0  ...   15    2   \n",
       "Platform         9    0   28   2   92  19  142   73    7   1  ...    5    1   \n",
       "Puzzle          11    1   20   0  238  15   41   13    0   0  ...    5    0   \n",
       "Racing           6    0   11   6   67   2   64   63    1   0  ...    8    1   \n",
       "Role-Playing     0    0   86   4  200  21   73   27    3   0  ...   17    1   \n",
       "Shooter         24    0    7   3   42   1   40   48    1   0  ...   22    0   \n",
       "Simulation       1    1   30   1  285   5   18   12    0   0  ...    7    0   \n",
       "Sports          12    0   26  10  148   9   88  110    3   0  ...   16    0   \n",
       "Strategy         0    0   15   0   79   7   18   11    1   0  ...   18    1   \n",
       "\n",
       "Platform      SNES  TG16  WS  Wii  WiiU  X360   XB  XOne  \n",
       "Genre                                                     \n",
       "Action          12     0   0  238    63   324  155    68  \n",
       "Adventure        4     1   0   84     3    47   26    12  \n",
       "Fighting        25     0   0   42     5    65   48     7  \n",
       "Misc            17     0   0  280    21   126   46    15  \n",
       "Platform        26     0   0   58    16    24   49     4  \n",
       "Puzzle          13     0   0   55     4     7    7     0  \n",
       "Racing           9     0   0   94     3   105  123    19  \n",
       "Role-Playing    50     0   4   35     6    76   23    13  \n",
       "Shooter         10     1   0   66    10   203  132    33  \n",
       "Simulation       9     0   0   87     1    40   24     3  \n",
       "Sports          49     0   0  261     8   220  170    36  \n",
       "Strategy        15     0   2   25     3    28   21     3  \n",
       "\n",
       "[12 rows x 31 columns]"
      ]
     },
     "execution_count": 135,
     "metadata": {},
     "output_type": "execute_result"
    }
   ],
   "source": [
    "pd.crosstab(df['Genre'], df['Platform'])"
   ]
  },
  {
   "cell_type": "code",
   "execution_count": 136,
   "metadata": {},
   "outputs": [
    {
     "data": {
      "text/html": [
       "<div>\n",
       "<style scoped>\n",
       "    .dataframe tbody tr th:only-of-type {\n",
       "        vertical-align: middle;\n",
       "    }\n",
       "\n",
       "    .dataframe tbody tr th {\n",
       "        vertical-align: top;\n",
       "    }\n",
       "\n",
       "    .dataframe thead th {\n",
       "        text-align: right;\n",
       "    }\n",
       "</style>\n",
       "<table border=\"1\" class=\"dataframe\">\n",
       "  <thead>\n",
       "    <tr style=\"text-align: right;\">\n",
       "      <th>Publisher</th>\n",
       "      <th>10TACLE Studios</th>\n",
       "      <th>1C Company</th>\n",
       "      <th>20th Century Fox Video Games</th>\n",
       "      <th>2D Boy</th>\n",
       "      <th>3DO</th>\n",
       "      <th>49Games</th>\n",
       "      <th>505 Games</th>\n",
       "      <th>5pb</th>\n",
       "      <th>7G//AMES</th>\n",
       "      <th>989 Sports</th>\n",
       "      <th>...</th>\n",
       "      <th>Zushi Games</th>\n",
       "      <th>bitComposer Games</th>\n",
       "      <th>dramatic create</th>\n",
       "      <th>fonfun</th>\n",
       "      <th>iWin</th>\n",
       "      <th>id Software</th>\n",
       "      <th>imageepoch Inc.</th>\n",
       "      <th>inXile Entertainment</th>\n",
       "      <th>mixi, Inc</th>\n",
       "      <th>responDESIGN</th>\n",
       "    </tr>\n",
       "    <tr>\n",
       "      <th>Genre</th>\n",
       "      <th></th>\n",
       "      <th></th>\n",
       "      <th></th>\n",
       "      <th></th>\n",
       "      <th></th>\n",
       "      <th></th>\n",
       "      <th></th>\n",
       "      <th></th>\n",
       "      <th></th>\n",
       "      <th></th>\n",
       "      <th></th>\n",
       "      <th></th>\n",
       "      <th></th>\n",
       "      <th></th>\n",
       "      <th></th>\n",
       "      <th></th>\n",
       "      <th></th>\n",
       "      <th></th>\n",
       "      <th></th>\n",
       "      <th></th>\n",
       "      <th></th>\n",
       "    </tr>\n",
       "  </thead>\n",
       "  <tbody>\n",
       "    <tr>\n",
       "      <th>Action</th>\n",
       "      <td>0</td>\n",
       "      <td>0</td>\n",
       "      <td>4</td>\n",
       "      <td>0</td>\n",
       "      <td>17</td>\n",
       "      <td>0</td>\n",
       "      <td>21</td>\n",
       "      <td>5</td>\n",
       "      <td>0</td>\n",
       "      <td>0</td>\n",
       "      <td>...</td>\n",
       "      <td>1</td>\n",
       "      <td>0</td>\n",
       "      <td>1</td>\n",
       "      <td>0</td>\n",
       "      <td>0</td>\n",
       "      <td>0</td>\n",
       "      <td>0</td>\n",
       "      <td>0</td>\n",
       "      <td>1</td>\n",
       "      <td>0</td>\n",
       "    </tr>\n",
       "    <tr>\n",
       "      <th>Adventure</th>\n",
       "      <td>1</td>\n",
       "      <td>0</td>\n",
       "      <td>0</td>\n",
       "      <td>0</td>\n",
       "      <td>3</td>\n",
       "      <td>0</td>\n",
       "      <td>7</td>\n",
       "      <td>49</td>\n",
       "      <td>0</td>\n",
       "      <td>0</td>\n",
       "      <td>...</td>\n",
       "      <td>1</td>\n",
       "      <td>0</td>\n",
       "      <td>4</td>\n",
       "      <td>0</td>\n",
       "      <td>0</td>\n",
       "      <td>0</td>\n",
       "      <td>1</td>\n",
       "      <td>0</td>\n",
       "      <td>0</td>\n",
       "      <td>0</td>\n",
       "    </tr>\n",
       "    <tr>\n",
       "      <th>Fighting</th>\n",
       "      <td>0</td>\n",
       "      <td>0</td>\n",
       "      <td>0</td>\n",
       "      <td>0</td>\n",
       "      <td>1</td>\n",
       "      <td>0</td>\n",
       "      <td>11</td>\n",
       "      <td>1</td>\n",
       "      <td>0</td>\n",
       "      <td>0</td>\n",
       "      <td>...</td>\n",
       "      <td>0</td>\n",
       "      <td>0</td>\n",
       "      <td>0</td>\n",
       "      <td>0</td>\n",
       "      <td>0</td>\n",
       "      <td>0</td>\n",
       "      <td>0</td>\n",
       "      <td>0</td>\n",
       "      <td>0</td>\n",
       "      <td>0</td>\n",
       "    </tr>\n",
       "    <tr>\n",
       "      <th>Misc</th>\n",
       "      <td>0</td>\n",
       "      <td>0</td>\n",
       "      <td>0</td>\n",
       "      <td>0</td>\n",
       "      <td>0</td>\n",
       "      <td>0</td>\n",
       "      <td>31</td>\n",
       "      <td>0</td>\n",
       "      <td>1</td>\n",
       "      <td>0</td>\n",
       "      <td>...</td>\n",
       "      <td>1</td>\n",
       "      <td>0</td>\n",
       "      <td>0</td>\n",
       "      <td>0</td>\n",
       "      <td>0</td>\n",
       "      <td>0</td>\n",
       "      <td>0</td>\n",
       "      <td>0</td>\n",
       "      <td>0</td>\n",
       "      <td>0</td>\n",
       "    </tr>\n",
       "    <tr>\n",
       "      <th>Platform</th>\n",
       "      <td>0</td>\n",
       "      <td>0</td>\n",
       "      <td>0</td>\n",
       "      <td>0</td>\n",
       "      <td>1</td>\n",
       "      <td>0</td>\n",
       "      <td>6</td>\n",
       "      <td>0</td>\n",
       "      <td>0</td>\n",
       "      <td>0</td>\n",
       "      <td>...</td>\n",
       "      <td>0</td>\n",
       "      <td>0</td>\n",
       "      <td>0</td>\n",
       "      <td>0</td>\n",
       "      <td>0</td>\n",
       "      <td>0</td>\n",
       "      <td>0</td>\n",
       "      <td>0</td>\n",
       "      <td>0</td>\n",
       "      <td>0</td>\n",
       "    </tr>\n",
       "    <tr>\n",
       "      <th>Puzzle</th>\n",
       "      <td>1</td>\n",
       "      <td>0</td>\n",
       "      <td>0</td>\n",
       "      <td>1</td>\n",
       "      <td>1</td>\n",
       "      <td>0</td>\n",
       "      <td>15</td>\n",
       "      <td>0</td>\n",
       "      <td>1</td>\n",
       "      <td>0</td>\n",
       "      <td>...</td>\n",
       "      <td>2</td>\n",
       "      <td>0</td>\n",
       "      <td>0</td>\n",
       "      <td>0</td>\n",
       "      <td>1</td>\n",
       "      <td>0</td>\n",
       "      <td>0</td>\n",
       "      <td>0</td>\n",
       "      <td>0</td>\n",
       "      <td>0</td>\n",
       "    </tr>\n",
       "    <tr>\n",
       "      <th>Racing</th>\n",
       "      <td>0</td>\n",
       "      <td>1</td>\n",
       "      <td>0</td>\n",
       "      <td>0</td>\n",
       "      <td>0</td>\n",
       "      <td>0</td>\n",
       "      <td>2</td>\n",
       "      <td>0</td>\n",
       "      <td>0</td>\n",
       "      <td>0</td>\n",
       "      <td>...</td>\n",
       "      <td>3</td>\n",
       "      <td>1</td>\n",
       "      <td>0</td>\n",
       "      <td>0</td>\n",
       "      <td>0</td>\n",
       "      <td>0</td>\n",
       "      <td>0</td>\n",
       "      <td>0</td>\n",
       "      <td>0</td>\n",
       "      <td>0</td>\n",
       "    </tr>\n",
       "    <tr>\n",
       "      <th>Role-Playing</th>\n",
       "      <td>0</td>\n",
       "      <td>1</td>\n",
       "      <td>0</td>\n",
       "      <td>0</td>\n",
       "      <td>1</td>\n",
       "      <td>0</td>\n",
       "      <td>10</td>\n",
       "      <td>1</td>\n",
       "      <td>0</td>\n",
       "      <td>0</td>\n",
       "      <td>...</td>\n",
       "      <td>1</td>\n",
       "      <td>0</td>\n",
       "      <td>0</td>\n",
       "      <td>0</td>\n",
       "      <td>0</td>\n",
       "      <td>0</td>\n",
       "      <td>1</td>\n",
       "      <td>1</td>\n",
       "      <td>0</td>\n",
       "      <td>0</td>\n",
       "    </tr>\n",
       "    <tr>\n",
       "      <th>Shooter</th>\n",
       "      <td>0</td>\n",
       "      <td>0</td>\n",
       "      <td>1</td>\n",
       "      <td>0</td>\n",
       "      <td>5</td>\n",
       "      <td>0</td>\n",
       "      <td>18</td>\n",
       "      <td>3</td>\n",
       "      <td>0</td>\n",
       "      <td>0</td>\n",
       "      <td>...</td>\n",
       "      <td>2</td>\n",
       "      <td>0</td>\n",
       "      <td>0</td>\n",
       "      <td>0</td>\n",
       "      <td>0</td>\n",
       "      <td>1</td>\n",
       "      <td>0</td>\n",
       "      <td>0</td>\n",
       "      <td>0</td>\n",
       "      <td>0</td>\n",
       "    </tr>\n",
       "    <tr>\n",
       "      <th>Simulation</th>\n",
       "      <td>0</td>\n",
       "      <td>0</td>\n",
       "      <td>0</td>\n",
       "      <td>0</td>\n",
       "      <td>0</td>\n",
       "      <td>0</td>\n",
       "      <td>41</td>\n",
       "      <td>2</td>\n",
       "      <td>2</td>\n",
       "      <td>0</td>\n",
       "      <td>...</td>\n",
       "      <td>2</td>\n",
       "      <td>4</td>\n",
       "      <td>0</td>\n",
       "      <td>1</td>\n",
       "      <td>0</td>\n",
       "      <td>0</td>\n",
       "      <td>0</td>\n",
       "      <td>0</td>\n",
       "      <td>0</td>\n",
       "      <td>0</td>\n",
       "    </tr>\n",
       "    <tr>\n",
       "      <th>Sports</th>\n",
       "      <td>0</td>\n",
       "      <td>0</td>\n",
       "      <td>0</td>\n",
       "      <td>0</td>\n",
       "      <td>6</td>\n",
       "      <td>1</td>\n",
       "      <td>27</td>\n",
       "      <td>0</td>\n",
       "      <td>0</td>\n",
       "      <td>1</td>\n",
       "      <td>...</td>\n",
       "      <td>3</td>\n",
       "      <td>0</td>\n",
       "      <td>0</td>\n",
       "      <td>0</td>\n",
       "      <td>0</td>\n",
       "      <td>0</td>\n",
       "      <td>0</td>\n",
       "      <td>0</td>\n",
       "      <td>0</td>\n",
       "      <td>2</td>\n",
       "    </tr>\n",
       "    <tr>\n",
       "      <th>Strategy</th>\n",
       "      <td>1</td>\n",
       "      <td>1</td>\n",
       "      <td>0</td>\n",
       "      <td>0</td>\n",
       "      <td>1</td>\n",
       "      <td>0</td>\n",
       "      <td>3</td>\n",
       "      <td>0</td>\n",
       "      <td>0</td>\n",
       "      <td>0</td>\n",
       "      <td>...</td>\n",
       "      <td>2</td>\n",
       "      <td>0</td>\n",
       "      <td>0</td>\n",
       "      <td>0</td>\n",
       "      <td>0</td>\n",
       "      <td>0</td>\n",
       "      <td>0</td>\n",
       "      <td>0</td>\n",
       "      <td>0</td>\n",
       "      <td>0</td>\n",
       "    </tr>\n",
       "  </tbody>\n",
       "</table>\n",
       "<p>12 rows × 578 columns</p>\n",
       "</div>"
      ],
      "text/plain": [
       "Publisher     10TACLE Studios  1C Company  20th Century Fox Video Games  \\\n",
       "Genre                                                                     \n",
       "Action                      0           0                             4   \n",
       "Adventure                   1           0                             0   \n",
       "Fighting                    0           0                             0   \n",
       "Misc                        0           0                             0   \n",
       "Platform                    0           0                             0   \n",
       "Puzzle                      1           0                             0   \n",
       "Racing                      0           1                             0   \n",
       "Role-Playing                0           1                             0   \n",
       "Shooter                     0           0                             1   \n",
       "Simulation                  0           0                             0   \n",
       "Sports                      0           0                             0   \n",
       "Strategy                    1           1                             0   \n",
       "\n",
       "Publisher     2D Boy  3DO  49Games  505 Games  5pb  7G//AMES  989 Sports  ...  \\\n",
       "Genre                                                                     ...   \n",
       "Action             0   17        0         21    5         0           0  ...   \n",
       "Adventure          0    3        0          7   49         0           0  ...   \n",
       "Fighting           0    1        0         11    1         0           0  ...   \n",
       "Misc               0    0        0         31    0         1           0  ...   \n",
       "Platform           0    1        0          6    0         0           0  ...   \n",
       "Puzzle             1    1        0         15    0         1           0  ...   \n",
       "Racing             0    0        0          2    0         0           0  ...   \n",
       "Role-Playing       0    1        0         10    1         0           0  ...   \n",
       "Shooter            0    5        0         18    3         0           0  ...   \n",
       "Simulation         0    0        0         41    2         2           0  ...   \n",
       "Sports             0    6        1         27    0         0           1  ...   \n",
       "Strategy           0    1        0          3    0         0           0  ...   \n",
       "\n",
       "Publisher     Zushi Games  bitComposer Games  dramatic create  fonfun  iWin  \\\n",
       "Genre                                                                         \n",
       "Action                  1                  0                1       0     0   \n",
       "Adventure               1                  0                4       0     0   \n",
       "Fighting                0                  0                0       0     0   \n",
       "Misc                    1                  0                0       0     0   \n",
       "Platform                0                  0                0       0     0   \n",
       "Puzzle                  2                  0                0       0     1   \n",
       "Racing                  3                  1                0       0     0   \n",
       "Role-Playing            1                  0                0       0     0   \n",
       "Shooter                 2                  0                0       0     0   \n",
       "Simulation              2                  4                0       1     0   \n",
       "Sports                  3                  0                0       0     0   \n",
       "Strategy                2                  0                0       0     0   \n",
       "\n",
       "Publisher     id Software  imageepoch Inc.  inXile Entertainment  mixi, Inc  \\\n",
       "Genre                                                                         \n",
       "Action                  0                0                     0          1   \n",
       "Adventure               0                1                     0          0   \n",
       "Fighting                0                0                     0          0   \n",
       "Misc                    0                0                     0          0   \n",
       "Platform                0                0                     0          0   \n",
       "Puzzle                  0                0                     0          0   \n",
       "Racing                  0                0                     0          0   \n",
       "Role-Playing            0                1                     1          0   \n",
       "Shooter                 1                0                     0          0   \n",
       "Simulation              0                0                     0          0   \n",
       "Sports                  0                0                     0          0   \n",
       "Strategy                0                0                     0          0   \n",
       "\n",
       "Publisher     responDESIGN  \n",
       "Genre                       \n",
       "Action                   0  \n",
       "Adventure                0  \n",
       "Fighting                 0  \n",
       "Misc                     0  \n",
       "Platform                 0  \n",
       "Puzzle                   0  \n",
       "Racing                   0  \n",
       "Role-Playing             0  \n",
       "Shooter                  0  \n",
       "Simulation               0  \n",
       "Sports                   2  \n",
       "Strategy                 0  \n",
       "\n",
       "[12 rows x 578 columns]"
      ]
     },
     "execution_count": 136,
     "metadata": {},
     "output_type": "execute_result"
    }
   ],
   "source": [
    "pd.crosstab(df['Genre'], df['Publisher'])"
   ]
  },
  {
   "cell_type": "code",
   "execution_count": null,
   "metadata": {},
   "outputs": [],
   "source": []
  }
 ],
 "metadata": {
  "kernelspec": {
   "display_name": "Python 3",
   "language": "python",
   "name": "python3"
  },
  "language_info": {
   "codemirror_mode": {
    "name": "ipython",
    "version": 3
   },
   "file_extension": ".py",
   "mimetype": "text/x-python",
   "name": "python",
   "nbconvert_exporter": "python",
   "pygments_lexer": "ipython3",
   "version": "3.7.7"
  }
 },
 "nbformat": 4,
 "nbformat_minor": 2
}
